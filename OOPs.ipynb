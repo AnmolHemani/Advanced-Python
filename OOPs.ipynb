{
 "cells": [
  {
   "cell_type": "code",
   "execution_count": 1,
   "id": "461a6011-b282-46c0-905e-bceb86234b88",
   "metadata": {},
   "outputs": [
    {
     "name": "stdout",
     "output_type": "stream",
     "text": [
      "Buddy says Woof!\n",
      "Golden Retriever this is breed\n",
      "Max says Woof!\n",
      "Labrador this is breed\n"
     ]
    }
   ],
   "source": [
    "# Example with Self\n",
    "class Dog:\n",
    "    def __init__(self,name,breed): # Constructor with 'self'\n",
    "        self.name=name #'self.name' binds to the instance attribute\n",
    "        self.breed=breed\n",
    "\n",
    "    def bark(self):\n",
    "        print(f\"{self.name} says Woof!\")\n",
    "        print(f\"{self.breed} this is breed\")\n",
    "\n",
    "dog1=Dog(\"Buddy\",\"Golden Retriever\")\n",
    "dog2=Dog(\"Max\",\"Labrador\")\n",
    "\n",
    "# Access attributes and methods\n",
    "dog1.bark()\n",
    "dog2.bark()"
   ]
  },
  {
   "cell_type": "code",
   "execution_count": 4,
   "id": "3f8508fe-f335-4f0e-8109-dad75eb3792a",
   "metadata": {},
   "outputs": [
    {
     "ename": "TypeError",
     "evalue": "Dog.__init__() takes 2 positional arguments but 3 were given",
     "output_type": "error",
     "traceback": [
      "\u001b[1;31m---------------------------------------------------------------------------\u001b[0m",
      "\u001b[1;31mTypeError\u001b[0m                                 Traceback (most recent call last)",
      "Cell \u001b[1;32mIn[4], line 13\u001b[0m\n\u001b[0;32m     10\u001b[0m         \u001b[38;5;28mprint\u001b[39m(\u001b[38;5;124mf\u001b[39m\u001b[38;5;124m\"\u001b[39m\u001b[38;5;132;01m{\u001b[39;00mbreed\u001b[38;5;132;01m}\u001b[39;00m\u001b[38;5;124m this is breed\u001b[39m\u001b[38;5;124m\"\u001b[39m)\n\u001b[0;32m     12\u001b[0m \u001b[38;5;66;03m# Create an object\u001b[39;00m\n\u001b[1;32m---> 13\u001b[0m dog1\u001b[38;5;241m=\u001b[39m\u001b[43mDog\u001b[49m\u001b[43m(\u001b[49m\u001b[38;5;124;43m\"\u001b[39;49m\u001b[38;5;124;43mBuddy\u001b[39;49m\u001b[38;5;124;43m\"\u001b[39;49m\u001b[43m,\u001b[49m\u001b[38;5;124;43m\"\u001b[39;49m\u001b[38;5;124;43mGolden Retriever\u001b[39;49m\u001b[38;5;124;43m\"\u001b[39;49m\u001b[43m)\u001b[49m\n\u001b[0;32m     14\u001b[0m dog2\u001b[38;5;241m=\u001b[39mDog(\u001b[38;5;124m\"\u001b[39m\u001b[38;5;124mMax\u001b[39m\u001b[38;5;124m\"\u001b[39m,\u001b[38;5;124m\"\u001b[39m\u001b[38;5;124mLabrador\u001b[39m\u001b[38;5;124m\"\u001b[39m)\n\u001b[0;32m     16\u001b[0m dog1\u001b[38;5;241m.\u001b[39mbark()\n",
      "\u001b[1;31mTypeError\u001b[0m: Dog.__init__() takes 2 positional arguments but 3 were given"
     ]
    }
   ],
   "source": [
    "# Example without self\n",
    "\n",
    "class Dog:\n",
    "    def __init__(name,breed): #missing 'self'\n",
    "        name=name # this wom't bind to the instance\n",
    "        breed=breed # this wom't bind to the instance\n",
    "\n",
    "    def bark():\n",
    "        print(f\"{name} says Woof!\") #this will cause an error\n",
    "        print(f\"{breed} this is breed\")\n",
    "\n",
    "# Create an object\n",
    "dog1=Dog(\"Buddy\",\"Golden Retriever\")\n",
    "dog2=Dog(\"Max\",\"Labrador\")\n",
    "\n",
    "dog1.bark()\n",
    "dog2.bark()"
   ]
  },
  {
   "cell_type": "markdown",
   "id": "5dd4273d-b197-46a9-8dc2-57185115de14",
   "metadata": {},
   "source": [
    "# Task 1\n",
    "Create a Calculator class.\n",
    "Add methods for addition,subtraction,multiplication and division\n",
    "Use the self parameter to access the numbers"
   ]
  },
  {
   "cell_type": "code",
   "execution_count": 8,
   "id": "6a791087-d2aa-4e3a-9b12-e76846420b95",
   "metadata": {},
   "outputs": [
    {
     "name": "stdin",
     "output_type": "stream",
     "text": [
      "Enter the first number : 10\n",
      "Enter the second number : 5\n"
     ]
    },
    {
     "name": "stdout",
     "output_type": "stream",
     "text": [
      "Addition is : 15\n",
      "Subtraction is : 5\n",
      "Multplication is : 50\n",
      "Division is : 2.0\n"
     ]
    }
   ],
   "source": [
    "class Calculator:\n",
    "    def __init__(self,num1,num2):\n",
    "        self.num1=num1\n",
    "        self.num2=num2\n",
    "\n",
    "    def add(self):\n",
    "        return self.num1+self.num2\n",
    "    def subtract(self):\n",
    "        return self.num1-self.num2\n",
    "    def multiply(self):\n",
    "        return self.num1*self.num2\n",
    "    def divide(self):\n",
    "        if self.num2!=0:\n",
    "            return self.num1/self.num2\n",
    "        else:\n",
    "            return \"Division by zero is not allowed\"\n",
    "\n",
    "num1=int(input(\"Enter the first number :\"))\n",
    "num2=int(input(\"Enter the second number :\"))\n",
    "calc=Calculator(num1,num2)\n",
    "print(f\"Addition is : {calc.add()}\")\n",
    "print(f\"Subtraction is : {calc.subtract()}\")\n",
    "print(f\"Multplication is : {calc.multiply()}\")\n",
    "print(f\"Division is : {calc.divide()}\")"
   ]
  },
  {
   "cell_type": "markdown",
   "id": "1d812f26-dfeb-4ddf-8b0d-7b119c61891b",
   "metadata": {},
   "source": [
    "# Task 2\n",
    "\n",
    "Define a BankAccount class.\n",
    "Add attributes for account holder name and balance.\n",
    "Add methods to deposit, withdraw, and check balance."
   ]
  },
  {
   "cell_type": "code",
   "execution_count": 1,
   "id": "57a0b83f-57af-4ec8-821a-e4949840d4b2",
   "metadata": {},
   "outputs": [
    {
     "name": "stdout",
     "output_type": "stream",
     "text": [
      "Account holder name is : Anmol\n",
      "Balance is : 10000\n"
     ]
    },
    {
     "name": "stdin",
     "output_type": "stream",
     "text": [
      "enter the deposit amount 1000\n"
     ]
    },
    {
     "name": "stdout",
     "output_type": "stream",
     "text": [
      "1000 is deposited. Balance is 11000\n"
     ]
    },
    {
     "name": "stdin",
     "output_type": "stream",
     "text": [
      "enter the withdrawn amount 5000\n"
     ]
    },
    {
     "name": "stdout",
     "output_type": "stream",
     "text": [
      "5000 is withdrawn. Remaining balance is 6000\n",
      "Account balance is : 6000\n"
     ]
    }
   ],
   "source": [
    "class BankAccount:\n",
    "    def __init__(self,holder_name,balance=0):\n",
    "        self.holder_name=holder_name\n",
    "        self.balance=balance\n",
    "        print(f\"Account holder name is : {self.holder_name}\")\n",
    "        print(f\"Balance is : {self.balance}\")\n",
    "\n",
    "    def deposit(self):\n",
    "        deposit_amount=int(input(\"enter the deposit amount\"))\n",
    "        self.balance+=deposit_amount\n",
    "        print(f\"{deposit_amount} is deposited. Balance is {self.balance}\")\n",
    "    def withdraw(self):\n",
    "        amount_withdrawn=int(input(\"enter the withdrawn amount\"))\n",
    "        if amount_withdrawn<self.balance:\n",
    "            self.balance-=amount_withdrawn\n",
    "            print(f\"{amount_withdrawn} is withdrawn. Remaining balance is {self.balance}\")\n",
    "        else:\n",
    "            print(\"Insufficient balance.\")\n",
    "    def checkBalance(self):\n",
    "        print(f\"Account balance is : {self.balance}\")\n",
    "\n",
    "account=BankAccount(\"Anmol\",10000)\n",
    "account.deposit()\n",
    "account.withdraw()\n",
    "account.checkBalance()"
   ]
  },
  {
   "cell_type": "markdown",
   "id": "0bc58378-4a2e-48c0-a80c-a31d1ccdaa2e",
   "metadata": {},
   "source": [
    "# Task 3\n",
    "\n",
    "Define a Student class with attributes like name, age, and marks.\n",
    "Add a method to display the student details.\n",
    "Add a method to check if the student passed (marks>=40)."
   ]
  },
  {
   "cell_type": "code",
   "execution_count": 6,
   "id": "c66d22db-5139-471a-8c8d-b15d8f203317",
   "metadata": {},
   "outputs": [
    {
     "name": "stdin",
     "output_type": "stream",
     "text": [
      "Enter your name : Anmol\n",
      "Enter your age : 22\n",
      "Enter the obtained marks out of 100 : 75\n"
     ]
    },
    {
     "name": "stdout",
     "output_type": "stream",
     "text": [
      "Name is : Anmol\n",
      "Age is : 22\n",
      "Obtained marks out of 100 is : 75\n",
      "Result is : passed\n"
     ]
    }
   ],
   "source": [
    "class Student:\n",
    "    def __init__(self,name,age,marks):\n",
    "        self.name=name\n",
    "        self.age=age\n",
    "        self.marks=marks\n",
    "\n",
    "    def s_details(self):\n",
    "        print(f\"Name is : {self.name}\")\n",
    "        print(f\"Age is : {self.age}\")\n",
    "        print(f\"Obtained marks out of 100 is : {self.marks}\")\n",
    "    def passed(self):\n",
    "        if self.marks>=40:\n",
    "            return \"passed\"\n",
    "        else:\n",
    "            return \"fail\"\n",
    "\n",
    "# details=Student(\"Anmol\",22,89)\n",
    "name=input(\"Enter your name :\")\n",
    "age=int(input(\"Enter your age :\"))\n",
    "marks=int(input(\"Enter the obtained marks out of 100 :\"))\n",
    "student=Student(name,age,marks)\n",
    "student.s_details()\n",
    "print(f\"Result is : {student.passed()}\")"
   ]
  },
  {
   "cell_type": "markdown",
   "id": "cfb09a95-ae27-41b9-8c24-928499cead13",
   "metadata": {},
   "source": [
    "# Task 4 : Create a Library System\n",
    "Define a Book class with attributes like title, author, and availability.\n",
    "Add methods to check availability and borrow/return the book."
   ]
  },
  {
   "cell_type": "code",
   "execution_count": 3,
   "id": "44cb5a82-d6df-4368-99e6-f83aeff86b46",
   "metadata": {},
   "outputs": [
    {
     "name": "stdin",
     "output_type": "stream",
     "text": [
      "Enter the title of the Book : physics\n",
      "Enter the author name of the book : hc verma\n"
     ]
    },
    {
     "data": {
      "text/plain": [
       "'Returned physics by hc verma. Thanks! come again.'"
      ]
     },
     "execution_count": 3,
     "metadata": {},
     "output_type": "execute_result"
    }
   ],
   "source": [
    "class Book:\n",
    "    def __init__(self,title,author):\n",
    "        self.title=title\n",
    "        self.author=author\n",
    "        self.available=True\n",
    "    def check_availability(self):\n",
    "        return self.available\n",
    "    def borrow_book(self):\n",
    "        if self.available:\n",
    "            self.available=False\n",
    "            return f\"Borrowed {self.title} by {self.author}.\"\n",
    "        else:\n",
    "            return f\"Sorry! {self.title} by {self.author} is currently unavailable.\"\n",
    "    def return_book(self):\n",
    "        self.available=True\n",
    "        return f\"Returned {self.title} by {self.author}. Thanks! come again.\"\n",
    "title=input(\"Enter the title of the Book :\")\n",
    "author=input(\"Enter the author name of the book :\")\n",
    "check_book=Book(title,author)\n",
    "check_book.check_availability()\n",
    "check_book.borrow_book()\n",
    "check_book.return_book()\n",
    "            "
   ]
  },
  {
   "cell_type": "markdown",
   "id": "070dff9e-44c1-4d4d-935d-acd7d2c3d53d",
   "metadata": {},
   "source": [
    "# Task 5 : Create an Employee Management System\n",
    "\n",
    "Define an Employee class with attributes like name, ID, and Salary.\n",
    "Add a method to calculate annual salary.\n",
    "Add a method to display employee details."
   ]
  },
  {
   "cell_type": "code",
   "execution_count": 1,
   "id": "0028de2a-9c8d-463f-9b3f-228f1f5823c6",
   "metadata": {},
   "outputs": [
    {
     "name": "stdin",
     "output_type": "stream",
     "text": [
      "Enter the name of the Employee : Anmol\n",
      "Enter the ID of the Employee : 785\n",
      "Enter the Monthly Salary of the employee : 78500\n"
     ]
    },
    {
     "name": "stdout",
     "output_type": "stream",
     "text": [
      "Employee Name is : Anmol\n",
      "Employee ID is : 785\n",
      "Monthly Salary is : 78500\n",
      "Total Annual Salary is : 942000\n"
     ]
    }
   ],
   "source": [
    "class Employee:\n",
    "    def __init__(self,name,emp_ID,salary):\n",
    "        self.name=name\n",
    "        self.emp_ID=emp_ID\n",
    "        self.salary=salary\n",
    "    def annual_salary(self):\n",
    "        return self.salary*12\n",
    "    def employee_details(self):\n",
    "        print(f\"Employee Name is : {self.name}\")\n",
    "        print(f\"Employee ID is : {self.emp_ID}\")\n",
    "        print(f\"Monthly Salary is : {self.salary}\")\n",
    "        print(f\"Total Annual Salary is : {self.annual_salary()}\")\n",
    "name=input(\"Enter the name of the Employee :\")\n",
    "emp_ID=int(input(\"Enter the ID of the Employee :\"))\n",
    "salary=int(input(\"Enter the Monthly Salary of the employee :\"))\n",
    "Emp_details=Employee(name,emp_ID,salary)\n",
    "Emp_details.employee_details()"
   ]
  },
  {
   "cell_type": "markdown",
   "id": "2d33610d-ceac-4f66-bcaf-def5e5a176ae",
   "metadata": {},
   "source": [
    "# Encapsulation"
   ]
  },
  {
   "cell_type": "markdown",
   "id": "27818f79-da83-4e2f-b627-99162635f19d",
   "metadata": {},
   "source": [
    "# Example 1 : Bank Account"
   ]
  },
  {
   "cell_type": "code",
   "execution_count": 10,
   "id": "e68b60ab-0bb8-4fb9-9137-4ea9a5395c20",
   "metadata": {},
   "outputs": [
    {
     "name": "stdout",
     "output_type": "stream",
     "text": [
      "Anmol\n",
      "10000\n",
      "Deposited amount : 1000! New balance : 11000\n",
      "Withdrawn amount : 5000! Remaining balance : 6000\n"
     ]
    }
   ],
   "source": [
    "class BankAccount:\n",
    "    def __init__(self,account_holder,balance):\n",
    "        self.__account_holder=account_holder #Private Attribute\n",
    "        self.__balance=balance #Private Attribute\n",
    "\n",
    "    #Getting for account holder\n",
    "    def get_account_holder(self):\n",
    "        return self.__account_holder\n",
    "\n",
    "    # Getting for balance\n",
    "    def get_balance(self):\n",
    "        return self.__balance\n",
    "\n",
    "    #Method to deposit money\n",
    "    def deposit(self,amount):\n",
    "        if amount>0:\n",
    "            self.__balance+=amount\n",
    "            return f\"Deposited amount : {amount}! New balance : {self.__balance}\"\n",
    "        else:\n",
    "            return \"Invalid deposit amount!\"\n",
    "\n",
    "    #Method to withdraw money\n",
    "    def withdraw(self,amount):\n",
    "        if amount<=self.__balance:\n",
    "            self.__balance-=amount\n",
    "            return f\"Withdrawn amount : {amount}! Remaining balance : {self.__balance}\"\n",
    "        else:\n",
    "            return \"Insufficient Balance!\"\n",
    "\n",
    "#Usinf the class\n",
    "account=BankAccount(\"Anmol\",10000)\n",
    "print(account.get_account_holder())\n",
    "print(account.get_balance())\n",
    "print(account.deposit(1000))\n",
    "print(account.withdraw(5000))\n",
    "\n",
    "# Attempt to access private attributes directly (not allowed)\n",
    "# print(account.__balance) #Error : AttrributeError"
   ]
  },
  {
   "cell_type": "markdown",
   "id": "5de384a5-ab6f-413a-a790-d54f55162d90",
   "metadata": {},
   "source": [
    "# Example 2 : Student Data"
   ]
  },
  {
   "cell_type": "code",
   "execution_count": 5,
   "id": "8cd7a98d-8e46-449f-8b51-28c6a0ce46ca",
   "metadata": {},
   "outputs": [
    {
     "name": "stdout",
     "output_type": "stream",
     "text": [
      "Anmol\n",
      "85\n",
      "Grade updated successfully!\n",
      "90\n",
      "Invalid grade! Must be between 0 and 100.\n"
     ]
    }
   ],
   "source": [
    "class Student:\n",
    "    def __init__(self,name,grade):\n",
    "        self.name=name #Public Attribute\n",
    "        self.__grade =grade #Private Attribute\n",
    "\n",
    "    # Getter for grade\n",
    "    def get_grade(self):\n",
    "        return self.__grade\n",
    "\n",
    "    #Setter for grade (with validation)\n",
    "    def set_grade(self,new_grade):\n",
    "        if 0<=new_grade<=100:\n",
    "            self.__grade=new_grade\n",
    "            return \"Grade updated successfully!\"\n",
    "        else:\n",
    "            return \"Invalid grade! Must be between 0 and 100.\"\n",
    "\n",
    "#Using the class\n",
    "student=Student(\"Anmol\",85)\n",
    "print(student.name)\n",
    "print(student.get_grade())\n",
    "print(student.set_grade(90))\n",
    "print(student.get_grade())\n",
    "\n",
    "# Attempt to set an invalid grade\n",
    "print(student.set_grade(150)) # output: Invalid grade! Must be between 0 and 100."
   ]
  },
  {
   "cell_type": "markdown",
   "id": "2a32e9d1-fcb4-448b-a952-a249423f953a",
   "metadata": {},
   "source": [
    "# Case Study 1: Healthcare System (Patient Record Management)\n",
    "\n",
    "Problem: Develop a system for managing patient records in a hospital where:\n",
    "Patient details (name, age, and medical history) should be private.\n",
    "Only authorized methods can retrieve or update medical history.\n",
    "Provide a method to add new medical records while keeping previous data secure."
   ]
  },
  {
   "cell_type": "code",
   "execution_count": 1,
   "id": "f2b1cf95-0801-41b6-bffc-5583b16775f2",
   "metadata": {},
   "outputs": [
    {
     "name": "stdin",
     "output_type": "stream",
     "text": [
      "Enter the patient name : Anmol\n",
      "Enter the age of the patient : 22\n"
     ]
    },
    {
     "name": "stdout",
     "output_type": "stream",
     "text": [
      "Name: Anmol , Age : 22\n",
      "Patient medical record added successfully!\n",
      "Medical History of the patient is : ['Seaviour Migrane Pain!']\n",
      "Patient updated medical history is : ['Seaviour Migrane Pain!', 'Asthma!']\n"
     ]
    }
   ],
   "source": [
    "class HealthcareSystem:\n",
    "    def __init__(self,name,age):\n",
    "        self.__name=name\n",
    "        self.__age=age\n",
    "        self.__medical_history=[]\n",
    "\n",
    "    def get_patient_info(self):\n",
    "        return f\"Name: {self.__name} , Age : {self.__age}\"\n",
    "        \n",
    "    def patient_medical_record(self,record):\n",
    "        self.__medical_history.append(record)\n",
    "        print(\"Patient medical record added successfully!\")\n",
    "        \n",
    "    def patient_medical_history(self):\n",
    "        return self.__medical_history.copy()\n",
    "        \n",
    "    def update_patient_medical_record(self,new_record):\n",
    "        self.__medical_history.append(new_record)\n",
    "                   \n",
    "name=input(\"Enter the patient name :\")\n",
    "age=int(input(\"Enter the age of the patient :\"))\n",
    "patient=HealthcareSystem(name,age)\n",
    "print(patient.get_patient_info())\n",
    "patient.patient_medical_record(\"Seaviour Migrane Pain!\")\n",
    "print(\"Medical History of the patient is :\",patient.patient_medical_history())\n",
    "patient.update_patient_medical_record(\"Asthma!\")\n",
    "print(\"Patient updated medical history is :\",patient.patient_medical_history())"
   ]
  },
  {
   "cell_type": "markdown",
   "id": "30254e83-9fa6-4eda-a1bc-d24ea6393ebc",
   "metadata": {},
   "source": [
    "# Inheritance"
   ]
  },
  {
   "cell_type": "markdown",
   "id": "caf2beac-c535-43bf-97a1-fff688c10f6a",
   "metadata": {},
   "source": [
    "# Multiple Inheritance"
   ]
  },
  {
   "cell_type": "code",
   "execution_count": 2,
   "id": "9489f396-360e-4918-82ee-c30ba6c07e39",
   "metadata": {},
   "outputs": [
    {
     "name": "stdout",
     "output_type": "stream",
     "text": [
      "Engine started!\n",
      "Wheels are rotating!\n",
      "Car is driving!\n"
     ]
    }
   ],
   "source": [
    "class Engine:\n",
    "    def start_engine(self):\n",
    "        print(\"Engine started!\")\n",
    "\n",
    "class Wheels:\n",
    "    def rotate_wheels(self):\n",
    "        print(\"Wheels are rotating!\")\n",
    "\n",
    "class Car(Engine,Wheels): #Inheriting from Engine and Wheels\n",
    "    def drive(self):\n",
    "        print(\"Car is driving!\")\n",
    "\n",
    "#Usage\n",
    "my_car=Car()\n",
    "my_car.start_engine() #Method from Engine\n",
    "my_car.rotate_wheels() #Method from Wheels\n",
    "my_car.drive() #Method from Car"
   ]
  },
  {
   "cell_type": "markdown",
   "id": "abec9f56-7e28-4244-b3c7-69ee899d6513",
   "metadata": {},
   "source": [
    "# Multilevel Inheritance"
   ]
  },
  {
   "cell_type": "code",
   "execution_count": 4,
   "id": "d4bfb346-668b-4e20-9a14-d82ad1a305f3",
   "metadata": {},
   "outputs": [
    {
     "name": "stdout",
     "output_type": "stream",
     "text": [
      "Animal is eating!\n",
      "Dog is barking!\n",
      "Puppy is weeping!\n"
     ]
    }
   ],
   "source": [
    "class Animal:\n",
    "    def eat(self):\n",
    "        print(\"Animal is eating!\")\n",
    "\n",
    "class Dog(Animal): #Dog inherits from Animal\n",
    "    def bark(self):\n",
    "        print(\"Dog is barking!\")\n",
    "\n",
    "class Puppy(Dog): #Puppy inherits from Dog\n",
    "    def weep(self):\n",
    "        print(\"Puppy is weeping!\")\n",
    "\n",
    "#Usage\n",
    "puppy=Puppy()\n",
    "puppy.eat()\n",
    "puppy.bark()\n",
    "puppy.weep()"
   ]
  },
  {
   "cell_type": "markdown",
   "id": "bb985c2d-6153-4301-bab9-d5054456bc28",
   "metadata": {},
   "source": [
    "# Class Methods"
   ]
  },
  {
   "cell_type": "code",
   "execution_count": 8,
   "id": "fe1e7fe6-3472-4da7-bf10-e17ec34d9c06",
   "metadata": {},
   "outputs": [
    {
     "name": "stdout",
     "output_type": "stream",
     "text": [
      "Tech Solution\n",
      "Future Tech\n",
      "Future Tech\n",
      "Physics\n",
      "Physics\n"
     ]
    }
   ],
   "source": [
    "class Employee:\n",
    "    company_name=\"Tech Solution\"\n",
    "\n",
    "    def __init__(self,name,salary):\n",
    "        self.name=name\n",
    "        self.salary=salary\n",
    "\n",
    "    @classmethod\n",
    "    def change_company_name(cls,new_name):\n",
    "        cls.company_name=new_name\n",
    "\n",
    "#Usage\n",
    "emp1=Employee(\"Anmol\",100000)\n",
    "emp2=Employee(\"Prakul\",90000)\n",
    "\n",
    "#Access the class attribute\n",
    "print(Employee.company_name)\n",
    "\n",
    "#change the class attribute using class method\n",
    "Employee.change_company_name(\"Future Tech\")\n",
    "print(Employee.company_name)\n",
    "print(emp1.company_name)\n",
    "\n",
    "emp1.change_company_name(\"Physics\")\n",
    "\n",
    "print(emp1.company_name)\n",
    "print(emp2.company_name)"
   ]
  }
 ],
 "metadata": {
  "kernelspec": {
   "display_name": "Python 3 (ipykernel)",
   "language": "python",
   "name": "python3"
  },
  "language_info": {
   "codemirror_mode": {
    "name": "ipython",
    "version": 3
   },
   "file_extension": ".py",
   "mimetype": "text/x-python",
   "name": "python",
   "nbconvert_exporter": "python",
   "pygments_lexer": "ipython3",
   "version": "3.12.3"
  }
 },
 "nbformat": 4,
 "nbformat_minor": 5
}
