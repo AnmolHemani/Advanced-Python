{
 "cells": [
  {
   "cell_type": "markdown",
   "id": "98b70b35-0529-418e-ade6-89b810d337f2",
   "metadata": {},
   "source": [
    "# Pandas"
   ]
  },
  {
   "cell_type": "markdown",
   "id": "52ae30c6-c7ce-4e4b-8bee-c65639a66b68",
   "metadata": {},
   "source": [
    "Pandas is an open - source library that is used for handle data manipulations.\n",
    "\n",
    "for installing pandas in jupyter or colab -> !pip install pandas\n",
    "\n",
    "for installing in vs code -> pip install pandas\n",
    "\n",
    "Data Structure in pandas:\n",
    "1. Series -> It is one-dimensional array and it shows only values not column name.\n",
    "2. Dataframe -> It is multi-dimensional array and it shows values with column name."
   ]
  },
  {
   "cell_type": "markdown",
   "id": "73591abd-902c-4c62-8e28-d17e5634ebd1",
   "metadata": {},
   "source": [
    "# 1. Series"
   ]
  },
  {
   "cell_type": "code",
   "execution_count": 1,
   "id": "f636d6a5-ae83-464f-96c8-fc8bf81fb0a5",
   "metadata": {},
   "outputs": [],
   "source": [
    "import pandas as pd"
   ]
  },
  {
   "cell_type": "code",
   "execution_count": 7,
   "id": "8e38dc84-5eb2-4b37-b51d-b41452898cbc",
   "metadata": {},
   "outputs": [
    {
     "name": "stdout",
     "output_type": "stream",
     "text": [
      "0     1\n",
      "1    34\n",
      "2    67\n",
      "3    90\n",
      "dtype: int64\n"
     ]
    }
   ],
   "source": [
    "a=pd.Series([1,34,67,90])\n",
    "print(a)"
   ]
  },
  {
   "cell_type": "code",
   "execution_count": 9,
   "id": "d7769d44-f228-4a14-ba99-cb98a4432222",
   "metadata": {},
   "outputs": [
    {
     "name": "stdout",
     "output_type": "stream",
     "text": [
      "<class 'pandas.core.series.Series'>\n"
     ]
    }
   ],
   "source": [
    "print(type(a))"
   ]
  },
  {
   "cell_type": "markdown",
   "id": "4ed648fc-27d3-43c9-b075-47cb502320bb",
   "metadata": {},
   "source": [
    "# 2. DataFrame"
   ]
  },
  {
   "cell_type": "markdown",
   "id": "0ec5b15e-6a27-45d6-ba6f-146b3708c7f7",
   "metadata": {},
   "source": [
    "Ques.1 -> We have to create employee data using dictionary?"
   ]
  },
  {
   "cell_type": "code",
   "execution_count": 11,
   "id": "087f4b7d-e931-413f-8ef2-7119ef7c621b",
   "metadata": {},
   "outputs": [],
   "source": [
    "a={\n",
    "    \"Emp_ID\":[1,2,3,4,5,6,7,8],\n",
    "    \"Emp_Name\":['Sam','Raj','Mohit','Sam','Gaurav','Mohit','Mohit','Garvit'],\n",
    "    \"Department\":['IT','Sales','IT','Operations','HR','IT','Operations','HR'],\n",
    "    \"Working_hours\":[8,9,9,9,9,8,8,8],\n",
    "    \"Salary\":[23000,25000,35000,31000,28000,26000,30000,34000]\n",
    "}"
   ]
  },
  {
   "cell_type": "code",
   "execution_count": 13,
   "id": "e8231318-6d04-4ea9-978b-6e852b4019ad",
   "metadata": {},
   "outputs": [
    {
     "name": "stdout",
     "output_type": "stream",
     "text": [
      "<class 'dict'>\n"
     ]
    }
   ],
   "source": [
    "print(type(a))"
   ]
  },
  {
   "cell_type": "code",
   "execution_count": 14,
   "id": "6c582bfc-2b10-4934-b33f-a944ea488f16",
   "metadata": {},
   "outputs": [
    {
     "name": "stdout",
     "output_type": "stream",
     "text": [
      "   Emp_ID Emp_Name  Department  Working_hours  Salary\n",
      "0       1      Sam          IT              8   23000\n",
      "1       2      Raj       Sales              9   25000\n",
      "2       3    Mohit          IT              9   35000\n",
      "3       4      Sam  Operations              9   31000\n",
      "4       5   Gaurav          HR              9   28000\n",
      "5       6    Mohit          IT              8   26000\n",
      "6       7    Mohit  Operations              8   30000\n",
      "7       8   Garvit          HR              8   34000\n"
     ]
    }
   ],
   "source": [
    "df=pd.DataFrame(a)\n",
    "print(df)"
   ]
  },
  {
   "cell_type": "markdown",
   "id": "8edaaa8d-c5e1-4cf1-8b59-30912ff2afa3",
   "metadata": {},
   "source": [
    "How do you export our dataframe into CSV file? "
   ]
  },
  {
   "cell_type": "code",
   "execution_count": 16,
   "id": "8a0b0013-a537-44f3-94a1-8dbc1554668c",
   "metadata": {},
   "outputs": [],
   "source": [
    "df.to_csv(\"C:\\\\Users\\\\Anmol Hemani\\\\OneDrive\\\\Desktop\\\\Jupyter\\\\Test\\\\emp_info.csv\",index=False)"
   ]
  },
  {
   "cell_type": "markdown",
   "id": "961105a4-f3ef-45f4-98b4-1db7e55d0a48",
   "metadata": {},
   "source": [
    "How do you import our dataframe into jupyter notebook?\n",
    "\n",
    "1. Open a folder in which you have datasets. -->\n",
    "2. copy the folder location\n",
    "3. Paste it into jupyter notebook\n",
    "4. df=pd.read_csv(\"Paste_folder_location\\\\file_name.csv\")"
   ]
  },
  {
   "cell_type": "markdown",
   "id": "153f0613-60c9-4630-b826-cc20d1beaa6d",
   "metadata": {},
   "source": [
    "Method 1"
   ]
  },
  {
   "cell_type": "code",
   "execution_count": 17,
   "id": "27460634-e793-4cc8-a01c-e3af75fe47c1",
   "metadata": {},
   "outputs": [],
   "source": [
    "df=pd.read_csv(\"C:\\\\Users\\\\Anmol Hemani\\\\OneDrive\\\\Desktop\\\\Jupyter\\\\Test\\\\emp_info.csv\")"
   ]
  },
  {
   "cell_type": "code",
   "execution_count": 18,
   "id": "6fa34109-f85e-494f-a4c1-d5c111527228",
   "metadata": {},
   "outputs": [
    {
     "name": "stdout",
     "output_type": "stream",
     "text": [
      "   Emp_ID Emp_Name  Department  Working_hours  Salary\n",
      "0       1      Sam          IT              8   23000\n",
      "1       2      Raj       Sales              9   25000\n",
      "2       3    Mohit          IT              9   35000\n",
      "3       4      Sam  Operations              9   31000\n",
      "4       5   Gaurav          HR              9   28000\n",
      "5       6    Mohit          IT              8   26000\n",
      "6       7    Mohit  Operations              8   30000\n",
      "7       8   Garvit          HR              8   34000\n"
     ]
    }
   ],
   "source": [
    "print(df)"
   ]
  },
  {
   "cell_type": "markdown",
   "id": "eb2f99b2-a628-4065-902f-2136a43b79c7",
   "metadata": {},
   "source": [
    "Method 2\n",
    "\n",
    "1. Go to home page of jupyter\n",
    "2. click on upload\n",
    "3. click on open --> upload\n",
    "4. pd.read_csv(\"file_name.csv\")"
   ]
  },
  {
   "cell_type": "code",
   "execution_count": 5,
   "id": "19d25a60-12e9-4999-b339-a1a154c7e0fb",
   "metadata": {},
   "outputs": [],
   "source": [
    "df=pd.read_csv(\"Test//emp_info.csv\")"
   ]
  },
  {
   "cell_type": "code",
   "execution_count": 22,
   "id": "c86a330e-f123-46bc-87c9-32dff6fc48f8",
   "metadata": {},
   "outputs": [
    {
     "name": "stdout",
     "output_type": "stream",
     "text": [
      "   Emp_ID Emp_Name  Department  Working_hours  Salary\n",
      "0       1      Sam          IT              8   23000\n",
      "1       2      Raj       Sales              9   25000\n",
      "2       3    Mohit          IT              9   35000\n",
      "3       4      Sam  Operations              9   31000\n",
      "4       5   Gaurav          HR              9   28000\n",
      "5       6    Mohit          IT              8   26000\n",
      "6       7    Mohit  Operations              8   30000\n",
      "7       8   Garvit          HR              8   34000\n"
     ]
    }
   ],
   "source": [
    "print(df)"
   ]
  },
  {
   "cell_type": "markdown",
   "id": "222e9971-ae68-44a4-aebe-f436afb0e846",
   "metadata": {},
   "source": [
    "# Task\n",
    "Create Student Table Data Frame with min 5 columns and 10 rows then export it in local system then import it on google colab and run it."
   ]
  },
  {
   "cell_type": "code",
   "execution_count": 2,
   "id": "ec0df312-8102-41d6-abb0-5fff8b2ce60c",
   "metadata": {},
   "outputs": [],
   "source": [
    "student_data = {\n",
    "    \"ID\": [101, 102, 103, 104, 105, 106, 107, 108, 109, 110],\n",
    "    \"Name\": [\"Aman\", \"Priya\", \"Raj\", \"Simran\", \"Vikram\", \"Neha\", \"Rohit\", \"Ananya\", \"Kunal\", \"Isha\"],\n",
    "    \"Roll No\": [2101, 2102, 2103, 2104, 2105, 2106, 2107, 2108, 2109, 2110],\n",
    "    \"Stream\": [\"Science\", \"Commerce\", \"Arts\", \"Science\", \"Commerce\", \"Arts\", \"Science\", \"Commerce\", \"Arts\", \"Science\"],\n",
    "    \"Semester\": [2, 4, 6, 3, 5, 1, 4, 2, 6, 3]\n",
    "}"
   ]
  },
  {
   "cell_type": "code",
   "execution_count": 9,
   "id": "c440de23-1740-4b42-a4be-187068aa1b9e",
   "metadata": {},
   "outputs": [
    {
     "name": "stdout",
     "output_type": "stream",
     "text": [
      "    ID    Name  Roll No    Stream  Semester\n",
      "0  101    Aman     2101   Science         2\n",
      "1  102   Priya     2102  Commerce         4\n",
      "2  103     Raj     2103      Arts         6\n",
      "3  104  Simran     2104   Science         3\n",
      "4  105  Vikram     2105  Commerce         5\n",
      "5  106    Neha     2106      Arts         1\n",
      "6  107   Rohit     2107   Science         4\n",
      "7  108  Ananya     2108  Commerce         2\n",
      "8  109   Kunal     2109      Arts         6\n",
      "9  110    Isha     2110   Science         3\n"
     ]
    }
   ],
   "source": [
    "a=pd.DataFrame(student_data)\n",
    "print(a)"
   ]
  },
  {
   "cell_type": "code",
   "execution_count": 10,
   "id": "463f282f-584e-4768-89ee-221ec868e1ae",
   "metadata": {},
   "outputs": [],
   "source": [
    "a.to_csv(\"C:\\\\Users\\\\Anmol Hemani\\\\OneDrive\\\\Desktop\\\\Jupyter\\\\Test\\\\student_info.csv\",index=False)"
   ]
  },
  {
   "cell_type": "code",
   "execution_count": 11,
   "id": "a856757a-3bea-4d70-b029-6059db95e8f1",
   "metadata": {},
   "outputs": [
    {
     "name": "stdout",
     "output_type": "stream",
     "text": [
      "    ID    Name  Roll No    Stream  Semester\n",
      "0  101    Aman     2101   Science         2\n",
      "1  102   Priya     2102  Commerce         4\n",
      "2  103     Raj     2103      Arts         6\n",
      "3  104  Simran     2104   Science         3\n",
      "4  105  Vikram     2105  Commerce         5\n",
      "5  106    Neha     2106      Arts         1\n",
      "6  107   Rohit     2107   Science         4\n",
      "7  108  Ananya     2108  Commerce         2\n",
      "8  109   Kunal     2109      Arts         6\n",
      "9  110    Isha     2110   Science         3\n"
     ]
    }
   ],
   "source": [
    "a=pd.read_csv(\"Test//student_info.csv\")\n",
    "print(a)"
   ]
  }
 ],
 "metadata": {
  "kernelspec": {
   "display_name": "Python 3 (ipykernel)",
   "language": "python",
   "name": "python3"
  },
  "language_info": {
   "codemirror_mode": {
    "name": "ipython",
    "version": 3
   },
   "file_extension": ".py",
   "mimetype": "text/x-python",
   "name": "python",
   "nbconvert_exporter": "python",
   "pygments_lexer": "ipython3",
   "version": "3.12.3"
  }
 },
 "nbformat": 4,
 "nbformat_minor": 5
}
