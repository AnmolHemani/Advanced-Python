{
 "cells": [
  {
   "cell_type": "code",
   "execution_count": 1,
   "id": "461a6011-b282-46c0-905e-bceb86234b88",
   "metadata": {},
   "outputs": [
    {
     "name": "stdout",
     "output_type": "stream",
     "text": [
      "Buddy says Woof!\n",
      "Golden Retriever this is breed\n",
      "Max says Woof!\n",
      "Labrador this is breed\n"
     ]
    }
   ],
   "source": [
    "# Example with Self\n",
    "class Dog:\n",
    "    def __init__(self,name,breed): # Constructor with 'self'\n",
    "        self.name=name #'self.name' binds to the instance attribute\n",
    "        self.breed=breed\n",
    "\n",
    "    def bark(self):\n",
    "        print(f\"{self.name} says Woof!\")\n",
    "        print(f\"{self.breed} this is breed\")\n",
    "\n",
    "dog1=Dog(\"Buddy\",\"Golden Retriever\")\n",
    "dog2=Dog(\"Max\",\"Labrador\")\n",
    "\n",
    "# Access attributes and methods\n",
    "dog1.bark()\n",
    "dog2.bark()"
   ]
  },
  {
   "cell_type": "code",
   "execution_count": 4,
   "id": "3f8508fe-f335-4f0e-8109-dad75eb3792a",
   "metadata": {},
   "outputs": [
    {
     "ename": "TypeError",
     "evalue": "Dog.__init__() takes 2 positional arguments but 3 were given",
     "output_type": "error",
     "traceback": [
      "\u001b[1;31m---------------------------------------------------------------------------\u001b[0m",
      "\u001b[1;31mTypeError\u001b[0m                                 Traceback (most recent call last)",
      "Cell \u001b[1;32mIn[4], line 13\u001b[0m\n\u001b[0;32m     10\u001b[0m         \u001b[38;5;28mprint\u001b[39m(\u001b[38;5;124mf\u001b[39m\u001b[38;5;124m\"\u001b[39m\u001b[38;5;132;01m{\u001b[39;00mbreed\u001b[38;5;132;01m}\u001b[39;00m\u001b[38;5;124m this is breed\u001b[39m\u001b[38;5;124m\"\u001b[39m)\n\u001b[0;32m     12\u001b[0m \u001b[38;5;66;03m# Create an object\u001b[39;00m\n\u001b[1;32m---> 13\u001b[0m dog1\u001b[38;5;241m=\u001b[39m\u001b[43mDog\u001b[49m\u001b[43m(\u001b[49m\u001b[38;5;124;43m\"\u001b[39;49m\u001b[38;5;124;43mBuddy\u001b[39;49m\u001b[38;5;124;43m\"\u001b[39;49m\u001b[43m,\u001b[49m\u001b[38;5;124;43m\"\u001b[39;49m\u001b[38;5;124;43mGolden Retriever\u001b[39;49m\u001b[38;5;124;43m\"\u001b[39;49m\u001b[43m)\u001b[49m\n\u001b[0;32m     14\u001b[0m dog2\u001b[38;5;241m=\u001b[39mDog(\u001b[38;5;124m\"\u001b[39m\u001b[38;5;124mMax\u001b[39m\u001b[38;5;124m\"\u001b[39m,\u001b[38;5;124m\"\u001b[39m\u001b[38;5;124mLabrador\u001b[39m\u001b[38;5;124m\"\u001b[39m)\n\u001b[0;32m     16\u001b[0m dog1\u001b[38;5;241m.\u001b[39mbark()\n",
      "\u001b[1;31mTypeError\u001b[0m: Dog.__init__() takes 2 positional arguments but 3 were given"
     ]
    }
   ],
   "source": [
    "# Example without self\n",
    "\n",
    "class Dog:\n",
    "    def __init__(name,breed): #missing 'self'\n",
    "        name=name # this wom't bind to the instance\n",
    "        breed=breed # this wom't bind to the instance\n",
    "\n",
    "    def bark():\n",
    "        print(f\"{name} says Woof!\") #this will cause an error\n",
    "        print(f\"{breed} this is breed\")\n",
    "\n",
    "# Create an object\n",
    "dog1=Dog(\"Buddy\",\"Golden Retriever\")\n",
    "dog2=Dog(\"Max\",\"Labrador\")\n",
    "\n",
    "dog1.bark()\n",
    "dog2.bark()"
   ]
  },
  {
   "cell_type": "markdown",
   "id": "5dd4273d-b197-46a9-8dc2-57185115de14",
   "metadata": {},
   "source": [
    "# Task 1\n",
    "Create a Calculator class.\n",
    "Add methods for addition,subtraction,multiplication and division\n",
    "Use the self parameter to access the numbers"
   ]
  },
  {
   "cell_type": "code",
   "execution_count": 8,
   "id": "6a791087-d2aa-4e3a-9b12-e76846420b95",
   "metadata": {},
   "outputs": [
    {
     "name": "stdin",
     "output_type": "stream",
     "text": [
      "Enter the first number : 10\n",
      "Enter the second number : 5\n"
     ]
    },
    {
     "name": "stdout",
     "output_type": "stream",
     "text": [
      "Addition is : 15\n",
      "Subtraction is : 5\n",
      "Multplication is : 50\n",
      "Division is : 2.0\n"
     ]
    }
   ],
   "source": [
    "class Calculator:\n",
    "    def __init__(self,num1,num2):\n",
    "        self.num1=num1\n",
    "        self.num2=num2\n",
    "\n",
    "    def add(self):\n",
    "        return self.num1+self.num2\n",
    "    def subtract(self):\n",
    "        return self.num1-self.num2\n",
    "    def multiply(self):\n",
    "        return self.num1*self.num2\n",
    "    def divide(self):\n",
    "        if self.num2!=0:\n",
    "            return self.num1/self.num2\n",
    "        else:\n",
    "            return \"Division by zero is not allowed\"\n",
    "\n",
    "num1=int(input(\"Enter the first number :\"))\n",
    "num2=int(input(\"Enter the second number :\"))\n",
    "calc=Calculator(num1,num2)\n",
    "print(f\"Addition is : {calc.add()}\")\n",
    "print(f\"Subtraction is : {calc.subtract()}\")\n",
    "print(f\"Multplication is : {calc.multiply()}\")\n",
    "print(f\"Division is : {calc.divide()}\")"
   ]
  },
  {
   "cell_type": "markdown",
   "id": "1d812f26-dfeb-4ddf-8b0d-7b119c61891b",
   "metadata": {},
   "source": [
    "# Task 2\n",
    "\n",
    "Define a BankAccount class.\n",
    "Add attributes for account holder name and balance.\n",
    "Add methods to deposit, withdraw, and check balance."
   ]
  },
  {
   "cell_type": "code",
   "execution_count": 1,
   "id": "57a0b83f-57af-4ec8-821a-e4949840d4b2",
   "metadata": {},
   "outputs": [
    {
     "name": "stdout",
     "output_type": "stream",
     "text": [
      "Account holder name is : Anmol\n",
      "Balance is : 10000\n"
     ]
    },
    {
     "name": "stdin",
     "output_type": "stream",
     "text": [
      "enter the deposit amount 1000\n"
     ]
    },
    {
     "name": "stdout",
     "output_type": "stream",
     "text": [
      "1000 is deposited. Balance is 11000\n"
     ]
    },
    {
     "name": "stdin",
     "output_type": "stream",
     "text": [
      "enter the withdrawn amount 5000\n"
     ]
    },
    {
     "name": "stdout",
     "output_type": "stream",
     "text": [
      "5000 is withdrawn. Remaining balance is 6000\n",
      "Account balance is : 6000\n"
     ]
    }
   ],
   "source": [
    "class BankAccount:\n",
    "    def __init__(self,holder_name,balance=0):\n",
    "        self.holder_name=holder_name\n",
    "        self.balance=balance\n",
    "        print(f\"Account holder name is : {self.holder_name}\")\n",
    "        print(f\"Balance is : {self.balance}\")\n",
    "\n",
    "    def deposit(self):\n",
    "        deposit_amount=int(input(\"enter the deposit amount\"))\n",
    "        self.balance+=deposit_amount\n",
    "        print(f\"{deposit_amount} is deposited. Balance is {self.balance}\")\n",
    "    def withdraw(self):\n",
    "        amount_withdrawn=int(input(\"enter the withdrawn amount\"))\n",
    "        if amount_withdrawn<self.balance:\n",
    "            self.balance-=amount_withdrawn\n",
    "            print(f\"{amount_withdrawn} is withdrawn. Remaining balance is {self.balance}\")\n",
    "        else:\n",
    "            print(\"Insufficient balance.\")\n",
    "    def checkBalance(self):\n",
    "        print(f\"Account balance is : {self.balance}\")\n",
    "\n",
    "account=BankAccount(\"Anmol\",10000)\n",
    "account.deposit()\n",
    "account.withdraw()\n",
    "account.checkBalance()"
   ]
  },
  {
   "cell_type": "markdown",
   "id": "0bc58378-4a2e-48c0-a80c-a31d1ccdaa2e",
   "metadata": {},
   "source": [
    "# Task 3\n",
    "\n",
    "Define a Student class with attributes like name, age, and marks.\n",
    "Add a method to display the student details.\n",
    "Add a method to check if the student passed (marks>=40)."
   ]
  },
  {
   "cell_type": "code",
   "execution_count": 6,
   "id": "c66d22db-5139-471a-8c8d-b15d8f203317",
   "metadata": {},
   "outputs": [
    {
     "name": "stdin",
     "output_type": "stream",
     "text": [
      "Enter your name : Anmol\n",
      "Enter your age : 22\n",
      "Enter the obtained marks out of 100 : 75\n"
     ]
    },
    {
     "name": "stdout",
     "output_type": "stream",
     "text": [
      "Name is : Anmol\n",
      "Age is : 22\n",
      "Obtained marks out of 100 is : 75\n",
      "Result is : passed\n"
     ]
    }
   ],
   "source": [
    "class Student:\n",
    "    def __init__(self,name,age,marks):\n",
    "        self.name=name\n",
    "        self.age=age\n",
    "        self.marks=marks\n",
    "\n",
    "    def s_details(self):\n",
    "        print(f\"Name is : {self.name}\")\n",
    "        print(f\"Age is : {self.age}\")\n",
    "        print(f\"Obtained marks out of 100 is : {self.marks}\")\n",
    "    def passed(self):\n",
    "        if self.marks>=40:\n",
    "            return \"passed\"\n",
    "        else:\n",
    "            return \"fail\"\n",
    "\n",
    "# details=Student(\"Anmol\",22,89)\n",
    "name=input(\"Enter your name :\")\n",
    "age=int(input(\"Enter your age :\"))\n",
    "marks=int(input(\"Enter the obtained marks out of 100 :\"))\n",
    "student=Student(name,age,marks)\n",
    "student.s_details()\n",
    "print(f\"Result is : {student.passed()}\")"
   ]
  }
 ],
 "metadata": {
  "kernelspec": {
   "display_name": "Python 3 (ipykernel)",
   "language": "python",
   "name": "python3"
  },
  "language_info": {
   "codemirror_mode": {
    "name": "ipython",
    "version": 3
   },
   "file_extension": ".py",
   "mimetype": "text/x-python",
   "name": "python",
   "nbconvert_exporter": "python",
   "pygments_lexer": "ipython3",
   "version": "3.12.3"
  }
 },
 "nbformat": 4,
 "nbformat_minor": 5
}
